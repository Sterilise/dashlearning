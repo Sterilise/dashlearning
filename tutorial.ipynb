{
 "cells": [
  {
   "cell_type": "code",
   "execution_count": 2,
   "id": "d168a409-d6ca-41a9-9c21-9cfa02d2d40b",
   "metadata": {},
   "outputs": [],
   "source": [
    "import dash\n",
    "import dash_core_components as dcc\n",
    "import dash_html_components as html\n"
   ]
  },
  {
   "cell_type": "code",
   "execution_count": 3,
   "id": "03385884-716c-4cef-9c35-fbcfa132bf73",
   "metadata": {},
   "outputs": [],
   "source": [
    "#create dash app\n",
    "app = dash.Dash()"
   ]
  },
  {
   "cell_type": "code",
   "execution_count": 6,
   "id": "78922386-5788-4c72-bc83-30b1f241da9c",
   "metadata": {},
   "outputs": [],
   "source": [
    "#create a html layout\n",
    "app.layout = html.Div([\n",
    "    html.H1(\"Hello Dash\"),\n",
    "    html.Div(\"Dash - data product development framework from plotly\")\n",
    "])"
   ]
  },
  {
   "cell_type": "code",
   "execution_count": null,
   "id": "e5872221-7aac-47f3-8a62-4922aa7fd33d",
   "metadata": {},
   "outputs": [
    {
     "name": "stdout",
     "output_type": "stream",
     "text": [
      "Dash is running on http://127.0.0.1:8050/\n",
      "\n",
      " * Serving Flask app '__main__' (lazy loading)\n",
      " * Environment: production\n",
      "\u001b[31m   WARNING: This is a development server. Do not use it in a production deployment.\u001b[0m\n",
      "\u001b[2m   Use a production WSGI server instead.\u001b[0m\n",
      " * Debug mode: off\n"
     ]
    },
    {
     "name": "stderr",
     "output_type": "stream",
     "text": [
      " * Running on http://127.0.0.1:8050/ (Press CTRL+C to quit)\n",
      "127.0.0.1 - - [16/Mar/2022 15:01:32] \"GET / HTTP/1.1\" 200 -\n",
      "127.0.0.1 - - [16/Mar/2022 15:01:32] \"GET /_dash-component-suites/dash_renderer/prop-types@15.v1_1_2m1576595738.7.2.min.js HTTP/1.1\" 200 -\n",
      "127.0.0.1 - - [16/Mar/2022 15:01:32] \"GET /_dash-component-suites/dash_renderer/react@16.v1_1_2m1576595738.8.6.min.js HTTP/1.1\" 200 -\n",
      "127.0.0.1 - - [16/Mar/2022 15:01:32] \"GET /_dash-component-suites/dash_core_components/highlight.v1_3_1m1576595950.pack.js HTTP/1.1\" 200 -\n",
      "127.0.0.1 - - [16/Mar/2022 15:01:32] \"GET /_dash-component-suites/dash_renderer/react-dom@16.v1_1_2m1576595738.8.6.min.js HTTP/1.1\" 200 -\n",
      "127.0.0.1 - - [16/Mar/2022 15:01:32] \"GET /_dash-component-suites/dash_html_components/dash_html_components.v1_0_1m1576596177.min.js HTTP/1.1\" 200 -\n",
      "127.0.0.1 - - [16/Mar/2022 15:01:32] \"GET /_dash-component-suites/dash_renderer/dash_renderer.v1_1_2m1576595738.min.js HTTP/1.1\" 200 -\n",
      "127.0.0.1 - - [16/Mar/2022 15:01:32] \"GET /_dash-component-suites/dash_core_components/dash_core_components.v1_3_1m1576595950.min.js HTTP/1.1\" 200 -\n",
      "127.0.0.1 - - [16/Mar/2022 15:01:32] \"GET /_dash-component-suites/dash_core_components/plotly-1.v1_3_1m1576595950.50.1.min.js HTTP/1.1\" 200 -\n",
      "127.0.0.1 - - [16/Mar/2022 15:01:32] \"GET /_dash-layout HTTP/1.1\" 200 -\n",
      "127.0.0.1 - - [16/Mar/2022 15:01:32] \"GET /_dash-dependencies HTTP/1.1\" 200 -\n",
      "127.0.0.1 - - [16/Mar/2022 15:01:32] \"GET /_favicon.ico?v=1.19.0 HTTP/1.1\" 200 -\n"
     ]
    }
   ],
   "source": [
    "if __name__ == \"__main__\":\n",
    "    app.run_server()"
   ]
  },
  {
   "cell_type": "code",
   "execution_count": null,
   "id": "cf78914a-b2ff-4bd4-81a2-173b195fcbc7",
   "metadata": {},
   "outputs": [],
   "source": []
  }
 ],
 "metadata": {
  "kernelspec": {
   "display_name": "Python 3 (ipykernel)",
   "language": "python",
   "name": "python3"
  },
  "language_info": {
   "codemirror_mode": {
    "name": "ipython",
    "version": 3
   },
   "file_extension": ".py",
   "mimetype": "text/x-python",
   "name": "python",
   "nbconvert_exporter": "python",
   "pygments_lexer": "ipython3",
   "version": "3.9.7"
  }
 },
 "nbformat": 4,
 "nbformat_minor": 5
}
